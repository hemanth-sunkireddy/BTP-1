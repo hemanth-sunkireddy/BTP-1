{
 "cells": [
  {
   "cell_type": "code",
   "execution_count": 1,
   "metadata": {},
   "outputs": [
    {
     "name": "stdout",
     "output_type": "stream",
     "text": [
      "Processed data/1.wav, saved chunks in output/1\n",
      "Processed data/10.wav, saved chunks in output/10\n",
      "Processed data/11.wav, saved chunks in output/11\n",
      "Processed data/12.wav, saved chunks in output/12\n",
      "Processed data/13.wav, saved chunks in output/13\n",
      "Processed data/14.wav, saved chunks in output/14\n",
      "Processed data/15.wav, saved chunks in output/15\n",
      "Processed data/16.wav, saved chunks in output/16\n",
      "Processed data/17.wav, saved chunks in output/17\n",
      "Processed data/18.wav, saved chunks in output/18\n",
      "Processed data/19.wav, saved chunks in output/19\n",
      "Processed data/2.wav, saved chunks in output/2\n",
      "Processed data/20.wav, saved chunks in output/20\n",
      "Processed data/21.wav, saved chunks in output/21\n",
      "Processed data/22.wav, saved chunks in output/22\n",
      "Processed data/23.wav, saved chunks in output/23\n",
      "Processed data/24.wav, saved chunks in output/24\n",
      "Processed data/25.wav, saved chunks in output/25\n",
      "Processed data/26.wav, saved chunks in output/26\n",
      "Processed data/3.wav, saved chunks in output/3\n",
      "Processed data/4.wav, saved chunks in output/4\n",
      "Processed data/5.wav, saved chunks in output/5\n",
      "Processed data/6.wav, saved chunks in output/6\n",
      "Processed data/7.wav, saved chunks in output/7\n",
      "Processed data/8.wav, saved chunks in output/8\n",
      "Processed data/9.wav, saved chunks in output/9\n"
     ]
    }
   ],
   "source": [
    "import os\n",
    "import torch\n",
    "from pprint import pprint\n",
    "from silero_vad import (\n",
    "    load_silero_vad, read_audio, get_speech_timestamps, \n",
    "    save_audio, VADIterator\n",
    ")\n",
    "\n",
    "# Constants\n",
    "SAMPLING_RATE = 16000\n",
    "USE_ONNX = False  # Change to True if you want to test the ONNX model\n",
    "MIN_CHUNK_DURATION = 30  # Minimum duration of a chunk in seconds\n",
    "DATA_FOLDER = \"data\"  # Folder containing input audio files\n",
    "OUTPUT_FOLDER = \"output\"  # Folder to save processed chunks\n",
    "\n",
    "# Load model\n",
    "model = load_silero_vad(onnx=USE_ONNX)\n",
    "\n",
    "def process_audio_file(audio_path, output_dir):\n",
    "    \"\"\"Process an audio file, split it into chunks, and save them.\"\"\"\n",
    "    wav = read_audio(audio_path, sampling_rate=SAMPLING_RATE)\n",
    "    speech_timestamps = get_speech_timestamps(wav, model, sampling_rate=SAMPLING_RATE, return_seconds=True)\n",
    "    \n",
    "    # Format timestamps to 4 decimal places\n",
    "    for segment in speech_timestamps:\n",
    "        segment['start'] = float(f\"{segment['start']:.4f}\")\n",
    "        segment['end'] = float(f\"{segment['end']:.4f}\")\n",
    "    \n",
    "    os.makedirs(output_dir, exist_ok=True)\n",
    "    vad_iterator = VADIterator(model, sampling_rate=SAMPLING_RATE)\n",
    "    chunks = []\n",
    "    current_chunk_start = 0\n",
    "    \n",
    "    for segment in speech_timestamps:\n",
    "        start, end = segment['start'], segment['end']\n",
    "        if (end - current_chunk_start) >= MIN_CHUNK_DURATION:\n",
    "            chunk_wav = wav[int(current_chunk_start * SAMPLING_RATE):int(end * SAMPLING_RATE)]\n",
    "            chunk_path = os.path.join(output_dir, f\"{len(chunks) + 1}.wav\")\n",
    "            save_audio(chunk_path, chunk_wav, sampling_rate=SAMPLING_RATE)\n",
    "            chunks.append((current_chunk_start, end, chunk_wav))\n",
    "            current_chunk_start = end\n",
    "    \n",
    "    # Save the last chunk if necessary\n",
    "    if current_chunk_start < speech_timestamps[-1]['end']:\n",
    "        chunk_wav = wav[int(current_chunk_start * SAMPLING_RATE):]\n",
    "        chunk_path = os.path.join(output_dir, f\"{len(chunks) + 1}.wav\")\n",
    "        save_audio(chunk_path, chunk_wav, sampling_rate=SAMPLING_RATE)\n",
    "        chunks.append((current_chunk_start, speech_timestamps[-1]['end'], chunk_wav))\n",
    "    \n",
    "    vad_iterator.reset_states()\n",
    "    print(f\"Processed {audio_path}, saved chunks in {output_dir}\")\n",
    "\n",
    "def process_all_audio_files():\n",
    "    \"\"\"Process all .wav files in the data folder and save their chunks.\"\"\"\n",
    "    if not os.path.exists(DATA_FOLDER):\n",
    "        print(f\"Data folder '{DATA_FOLDER}' does not exist.\")\n",
    "        return\n",
    "    \n",
    "    for file_name in sorted(os.listdir(DATA_FOLDER)):\n",
    "        if file_name.endswith(\".wav\"):\n",
    "            audio_path = os.path.join(DATA_FOLDER, file_name)\n",
    "            audio_id = os.path.splitext(file_name)[0]  # Extract the number without extension\n",
    "            output_dir = os.path.join(OUTPUT_FOLDER, audio_id)\n",
    "            process_audio_file(audio_path, output_dir)\n",
    "\n",
    "# Run the processing function\n",
    "process_all_audio_files()\n"
   ]
  },
  {
   "cell_type": "code",
   "execution_count": 2,
   "metadata": {},
   "outputs": [
    {
     "name": "stdout",
     "output_type": "stream",
     "text": [
      "\n",
      "\n",
      "Probabilities of each frame\n"
     ]
    },
    {
     "ename": "NameError",
     "evalue": "name 'chunk_times' is not defined",
     "output_type": "error",
     "traceback": [
      "\u001b[0;31m---------------------------------------------------------------------------\u001b[0m",
      "\u001b[0;31mNameError\u001b[0m                                 Traceback (most recent call last)",
      "Cell \u001b[0;32mIn[2], line 3\u001b[0m\n\u001b[1;32m      1\u001b[0m \u001b[38;5;28mprint\u001b[39m(\u001b[38;5;124m\"\u001b[39m\u001b[38;5;130;01m\\n\u001b[39;00m\u001b[38;5;124m\"\u001b[39m)\n\u001b[1;32m      2\u001b[0m \u001b[38;5;28mprint\u001b[39m(\u001b[38;5;124m\"\u001b[39m\u001b[38;5;124mProbabilities of each frame\u001b[39m\u001b[38;5;124m\"\u001b[39m)\n\u001b[0;32m----> 3\u001b[0m \u001b[38;5;28;01mfor\u001b[39;00m time, prob \u001b[38;5;129;01min\u001b[39;00m \u001b[38;5;28mzip\u001b[39m(\u001b[43mchunk_times\u001b[49m, speech_probs):\n\u001b[1;32m      4\u001b[0m     \u001b[38;5;28mprint\u001b[39m(\u001b[38;5;124mf\u001b[39m\u001b[38;5;124m\"\u001b[39m\u001b[38;5;124mChunk Start Time: \u001b[39m\u001b[38;5;132;01m{\u001b[39;00mtime\u001b[38;5;132;01m:\u001b[39;00m\u001b[38;5;124m.3f\u001b[39m\u001b[38;5;132;01m}\u001b[39;00m\u001b[38;5;124m sec, Speech Probability: \u001b[39m\u001b[38;5;132;01m{\u001b[39;00mprob\u001b[38;5;132;01m:\u001b[39;00m\u001b[38;5;124m.6f\u001b[39m\u001b[38;5;132;01m}\u001b[39;00m\u001b[38;5;124m\"\u001b[39m)\n",
      "\u001b[0;31mNameError\u001b[0m: name 'chunk_times' is not defined"
     ]
    }
   ],
   "source": [
    "print(\"\\n\")\n",
    "print(\"Probabilities of each frame\")\n",
    "for time, prob in zip(chunk_times, speech_probs):\n",
    "    print(f\"Chunk Start Time: {time:.3f} sec, Speech Probability: {prob:.6f}\")"
   ]
  }
 ],
 "metadata": {
  "kernelspec": {
   "display_name": "python3.10",
   "language": "python",
   "name": "python3"
  },
  "language_info": {
   "codemirror_mode": {
    "name": "ipython",
    "version": 3
   },
   "file_extension": ".py",
   "mimetype": "text/x-python",
   "name": "python",
   "nbconvert_exporter": "python",
   "pygments_lexer": "ipython3",
   "version": "3.10.16"
  }
 },
 "nbformat": 4,
 "nbformat_minor": 2
}
