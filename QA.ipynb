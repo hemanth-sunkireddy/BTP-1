{
 "cells": [
  {
   "cell_type": "markdown",
   "id": "ec344a37",
   "metadata": {},
   "source": [
    "## Ask user Query"
   ]
  },
  {
   "cell_type": "code",
   "execution_count": 1,
   "id": "9384abf5",
   "metadata": {},
   "outputs": [
    {
     "name": "stderr",
     "output_type": "stream",
     "text": [
      "/Library/Frameworks/Python.framework/Versions/3.13/lib/python3.13/site-packages/tqdm/auto.py:21: TqdmWarning: IProgress not found. Please update jupyter and ipywidgets. See https://ipywidgets.readthedocs.io/en/stable/user_install.html\n",
      "  from .autonotebook import tqdm as notebook_tqdm\n"
     ]
    },
    {
     "name": "stdout",
     "output_type": "stream",
     "text": [
      "\n",
      " Related Sentences:\n",
      "- As you can see, machine learning is a top skill in the jobs that involves AI skills. - 0.5102\n",
      "- Machine learning consists of different types of learning, such as supervised learning, unsupervised learning, or reinforcement learning. - 0.5319\n",
      "- Many machine learning models, they are coming from statistical learning. - 0.5381\n",
      "- This video will talk about introduction to machine learning. - 0.5936\n",
      "- So machine learning is part of data science and it is also a subfield of artificial intelligence. - 0.6000\n",
      "- And here is the Google trend on the term on machine learning and software engineering. - 0.6220\n",
      "- So machine learning extends the statistical learning by including more complex algorithms, which deal with more complex data and bigger data, and more efficient algorithms. - 0.6400\n",
      "- Machine learning, we mentioned that machine learning several times during the talk about data science. - 0.6611\n",
      "- Here are some few examples of machine learning tasks. - 0.6639\n",
      "- It is one of the simplest kind of supervised learning model. - 0.6737\n",
      "- It focuses on learning algorithms and building models and training them on the data. - 0.6887\n",
      "\n",
      "Related Sentences with Metadata:\n",
      "- [1.srt] [00:06:07.960 --> 00:06:12.370] As you can see, machine learning is a top skill in the jobs that involves AI skills. - Distance: 0.5102\n",
      "- [1.srt] [00:02:55.280 --> 00:03:02.489] Machine learning consists of different types of learning, such as supervised learning, unsupervised learning, or reinforcement learning. - Distance: 0.5319\n",
      "- [1.srt] [00:03:03.539 --> 00:03:06.799] Many machine learning models, they are coming from statistical learning. - Distance: 0.5381\n",
      "- [1.srt] [00:00:07.940 --> 00:00:11.130] This video will talk about introduction to machine learning. - Distance: 0.5936\n",
      "- [1.srt] [00:02:42.550 --> 00:02:48.879] So machine learning is part of data science and it is also a subfield of artificial intelligence. - Distance: 0.6000\n",
      "- [1.srt] [00:05:36.290 --> 00:05:41.000] And here is the Google trend on the term on machine learning and software engineering. - Distance: 0.6220\n",
      "- [1.srt] [00:03:07.229 --> 00:03:17.589] So machine learning extends the statistical learning by including more complex algorithms, which deal with more complex data and bigger data, and more efficient algorithms. - Distance: 0.6400\n",
      "- [1.srt] [00:02:37.450 --> 00:02:42.409] Machine learning, we mentioned that machine learning several times during the talk about data science. - Distance: 0.6611\n",
      "- [1.srt] [00:13:03.110 --> 00:13:05.670] Here are some few examples of machine learning tasks. - Distance: 0.6639\n",
      "- [2.srt] [00:01:21.239 --> 00:01:24.949] It is one of the simplest kind of supervised learning model. - Distance: 0.6737\n",
      "- [1.srt] [00:02:49.840 --> 00:02:54.140] It focuses on learning algorithms and building models and training them on the data. - Distance: 0.6887\n"
     ]
    }
   ],
   "source": [
    "import faiss\n",
    "import numpy as np\n",
    "from sentence_transformers import SentenceTransformer\n",
    "import csv\n",
    "\n",
    "# Load the model and FAISS index\n",
    "model = SentenceTransformer('sentence-transformers/all-MiniLM-L6-v2')\n",
    "faiss_index = faiss.read_index(\"Data/sentence_embeddings.index\")\n",
    "\n",
    "# Load lecture sentences\n",
    "with open('Data/sentences.txt', 'r') as file:\n",
    "    lecture_sentences = file.readlines()\n",
    "lecture_sentences = [line.strip() for line in lecture_sentences if line.strip()]\n",
    "\n",
    "lecture_data = []\n",
    "with open('Data/srt-embedding-metadata.tsv', 'r', encoding='utf-8') as file:\n",
    "    tsv_reader = csv.reader(file, delimiter='\\t')\n",
    "    for row in tsv_reader:\n",
    "        if len(row) == 3:\n",
    "            filename, timestamp, sentence = row\n",
    "            lecture_data.append((filename.strip(), timestamp.strip(), sentence.strip()))\n",
    "\n",
    "# Get student's question\n",
    "student_question = input(\"Enter your question: \")\n",
    "question_embedding = np.array(model.encode([student_question])).astype('float32')\n",
    "\n",
    "# Search all sentences (max number can be total sentences in the index)\n",
    "distances, indices = faiss_index.search(question_embedding, len(lecture_sentences))\n",
    "\n",
    "# Define a distance threshold (lower means more similar)\n",
    "distance_threshold = 0.7\n",
    "\n",
    "related_sentences = []\n",
    "related_results = []\n",
    "for j in range(len(indices[0])):\n",
    "    i = indices[0][j]\n",
    "    distance = distances[0][j]\n",
    "    sentence = lecture_sentences[i]\n",
    "    \n",
    "    # Check if the sentence is below the distance threshold and is not a question\n",
    "    if distance > 0 and distance <= distance_threshold and not sentence.strip().endswith('?'):\n",
    "        related_sentences.append((sentence, distance))\n",
    "        filename, timestamp, _ = lecture_data[i+1]\n",
    "        related_results.append((filename, timestamp, sentence, distance))\n",
    "\n",
    "\n",
    "# Display related sentences with distances\n",
    "print(\"\\n Related Sentences:\")\n",
    "for sentence, distance in related_sentences:\n",
    "    print(f\"- {sentence} - {distance:.4f}\")\n",
    "\n",
    "print(\"\\nRelated Sentences with Metadata:\")\n",
    "for filename, timestamp, sentence, distance in related_results:\n",
    "    print(f\"- [{filename}] [{timestamp}] {sentence} - Distance: {distance:.4f}\")"
   ]
  }
 ],
 "metadata": {
  "kernelspec": {
   "display_name": "Python 3",
   "language": "python",
   "name": "python3"
  },
  "language_info": {
   "codemirror_mode": {
    "name": "ipython",
    "version": 3
   },
   "file_extension": ".py",
   "mimetype": "text/x-python",
   "name": "python",
   "nbconvert_exporter": "python",
   "pygments_lexer": "ipython3",
   "version": "3.13.6"
  }
 },
 "nbformat": 4,
 "nbformat_minor": 5
}
